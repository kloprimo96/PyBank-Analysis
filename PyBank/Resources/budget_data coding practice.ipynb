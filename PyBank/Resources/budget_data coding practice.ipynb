{
 "cells": [
  {
   "cell_type": "code",
   "execution_count": 6,
   "id": "14d91ac6",
   "metadata": {},
   "outputs": [],
   "source": [
    "#Setup\n",
    "\n",
    "import os\n",
    "import csv"
   ]
  },
  {
   "cell_type": "code",
   "execution_count": 7,
   "id": "74c600a9",
   "metadata": {},
   "outputs": [
    {
     "name": "stdout",
     "output_type": "stream",
     "text": [
      "------------------\n",
      "Financial Analysis\n",
      "------------------\n",
      "Total Months: 86\n",
      "Total: $22564198\n",
      "Average Change $-8311.11\n",
      "Greatest Increase in Profits: 16-Aug ($1862002)\n",
      "Greatest Decrease in Profits: 14-Feb ($-1825558)    \n"
     ]
    }
   ],
   "source": [
    "#Import CSV File\n",
    "\n",
    "budget_data = os.path.join(\".\",\"budget_data.csv\")\n",
    "\n",
    "results_to_output = os.path.join(\".\",\"budget_analysis.txt\")\n",
    "\n",
    "#Set variables as zero for looping\n",
    "\n",
    "total_months = 0\n",
    "total_net = 0\n",
    "\n",
    "#Create lists\n",
    "\n",
    "net_change_list = []\n",
    "month_of_changes = []\n",
    "\n",
    "greatest = [\"\", 0]\n",
    "least = [\"\", 999999999999]\n",
    "\n",
    "#Loop through rows to capture changes\n",
    "\n",
    "with open (budget_data) as csvfile:\n",
    "    reader = csv.reader(csvfile) \n",
    "    \n",
    "    header = next(reader)\n",
    "    \n",
    "    first_row = next(reader)\n",
    "    \n",
    "    total_net += int(first_row[1])\n",
    "    previous_net = int(first_row[1])\n",
    "    \n",
    "    total_months += 1\n",
    "    \n",
    "    for row in reader:\n",
    "        total_months += 1 \n",
    "        total_net += int(row[1])\n",
    "        \n",
    "        net_change = int(row[1]) - previous_net\n",
    "        previous_net = int(row[1])\n",
    "        net_change_list.append(net_change)\n",
    "       \n",
    "         \n",
    "        if(net_change > greatest[1]):\n",
    "            greatest[0] = row[0]\n",
    "            greatest[1] = net_change\n",
    "            \n",
    "        if(net_change < least[1]):\n",
    "            least[0] = row[0]\n",
    "            least[1] = net_change\n",
    "            \n",
    "                     \n",
    "                     \n",
    "                 \n",
    " #Monthly change                    \n",
    "\n",
    "net_monthly_average = sum(net_change_list) / len(net_change_list)\n",
    "\n",
    "\n",
    "#Output for txtfile\n",
    "\n",
    "output = (\n",
    "    f\"------------------\\n\"\n",
    "    f\"Financial Analysis\\n\"\n",
    "    f\"------------------\\n\"\n",
    "    \n",
    "    f\"Total Months: {total_months}\\n\"\n",
    "    f\"Total: ${total_net}\\n\"\n",
    "    f\"Average Change ${net_monthly_average:.2f}\\n\"\n",
    "    f\"Greatest Increase in Profits: {greatest[0]} (${greatest[1]})\\n\"\n",
    "    f\"Greatest Decrease in Profits: {least[0]} (${least[1]})    \"\n",
    ")\n",
    "\n",
    "print(output)\n",
    "\n",
    "with open(results_to_output, \"w\") as txt_file:\n",
    "    txt_file.write(output)\n",
    "  "
   ]
  },
  {
   "cell_type": "code",
   "execution_count": null,
   "id": "89b19a41",
   "metadata": {},
   "outputs": [],
   "source": []
  },
  {
   "cell_type": "code",
   "execution_count": null,
   "id": "adf78039",
   "metadata": {},
   "outputs": [],
   "source": []
  },
  {
   "cell_type": "code",
   "execution_count": null,
   "id": "d34de283",
   "metadata": {},
   "outputs": [],
   "source": []
  }
 ],
 "metadata": {
  "kernelspec": {
   "display_name": "Python 3 (ipykernel)",
   "language": "python",
   "name": "python3"
  },
  "language_info": {
   "codemirror_mode": {
    "name": "ipython",
    "version": 3
   },
   "file_extension": ".py",
   "mimetype": "text/x-python",
   "name": "python",
   "nbconvert_exporter": "python",
   "pygments_lexer": "ipython3",
   "version": "3.9.13"
  }
 },
 "nbformat": 4,
 "nbformat_minor": 5
}
